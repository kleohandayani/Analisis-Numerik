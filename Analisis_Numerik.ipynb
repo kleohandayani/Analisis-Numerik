{
  "nbformat": 4,
  "nbformat_minor": 0,
  "metadata": {
    "colab": {
      "provenance": []
    },
    "kernelspec": {
      "name": "python3",
      "display_name": "Python 3"
    },
    "language_info": {
      "name": "python"
    }
  },
  "cells": [
    {
      "cell_type": "code",
      "execution_count": null,
      "metadata": {
        "colab": {
          "base_uri": "https://localhost:8080/"
        },
        "id": "07IxV_WbVReS",
        "outputId": "e423014f-51fc-45ee-866f-f6e6c359179e"
      },
      "outputs": [
        {
          "output_type": "stream",
          "name": "stdout",
          "text": [
            "-------------------------------------------------------------------------------------------------------\n",
            "n                    a                    b                    x                    f(x)/toleransi      \n",
            "-------------------------------------------------------------------------------------------------------\n",
            "1                    2                    6                    2.6666667            -2.2222222          \n",
            "\n",
            "2                    2.6666667            6                    3.2727273            -1.6528926          \n",
            "\n",
            "3                    3.2727273            6                    3.6595745            -0.90538705         \n",
            "\n",
            "4                    3.6595745            6                    3.8538813            -0.41700548         \n",
            "\n",
            "5                    3.8538813            6                    3.939793             -0.17699601         \n",
            "\n",
            "6                    3.939793             6                    3.9756237            -0.072534723        \n",
            "\n",
            "7                    3.9756237            6                    3.9902017            -0.029298872        \n",
            "\n",
            "8                    3.9902017            6                    3.996073             -0.011765617        \n",
            "\n",
            "9                    3.996073             6                    3.998428             -0.0047136481       \n",
            "\n",
            "10                   3.998428             6                    3.999371             -0.0018866454       \n",
            "\n",
            "\n",
            "Nilai x didapatkan pada saat iterasi ke 10, dengan nilai x = 3.999748362868853\n"
          ]
        }
      ],
      "source": [
        "import math\n",
        "import numpy as np\n",
        "\n",
        "\n",
        "def f(x):\n",
        "    f = math.pow(x,2) - 5*x + 4\n",
        "    return f\n",
        "\n",
        "\n",
        "def regulaFalsi(a, b , toleransi, n):\n",
        "    i = 0\n",
        "    fa = f(a)\n",
        "\n",
        "    print(\"-------------------------------------------------------------------------------------------------------\")\n",
        "    print(\"%-20s %-20s %-20s %-20s %-20s\" % (\"n\", \"a\", \"b\", \"x\", \"f(x)/toleransi\"))\n",
        "    print(\"-------------------------------------------------------------------------------------------------------\")\n",
        "\n",
        "    # Dilakukan iterasi sampai dengan n yang diinginkan\n",
        "    while(i <= n):\n",
        "        x = (a*f(b)-b*f(a))/(f(b) - f(a))\n",
        "        fx = f(x)\n",
        "        i += 1\n",
        "\n",
        "        # Jika f(x) = 0 atau akar telah ditemukan program akan berhenti.\n",
        "        # Jika |f(x)| < angka toleransi program akan berhenti. Artinya nilai toleransi/error telah dicapai.\n",
        "        if (fx == 0 or np.abs(f(x)) < toleransi):\n",
        "            print(f\"\\nNilai x didapatkan pada saat iterasi ke {i-1}, dengan nilai x = {x}\")\n",
        "            break\n",
        "        # Jika tidak maka iterasi akan terus berjalan sampai keadaan di atas.\n",
        "        else:\n",
        "             print(\"%-20.8g %-20.8g %-20.8g %-20.8g %-20.8g\\n\" % (i, a, b, x, f(x)))\n",
        "\n",
        "        # Syarat metode tertutup, pada kasus ini Regula Falsi\n",
        "        if (fa*fx > 0):\n",
        "            a = x\n",
        "        else:\n",
        "            b = x\n",
        "    return\n",
        "\n",
        "regulaFalsi(2, 6, 0.001, 10)\n"
      ]
    }
  ]
}